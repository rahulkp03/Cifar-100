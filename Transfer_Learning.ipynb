{
 "cells": [
  {
   "cell_type": "markdown",
   "metadata": {
    "id": "ykg64-UmWb4q"
   },
   "source": [
    "## Transfer-Learning \n",
    "\n",
    "\n",
    "\n",
    "\n"
   ]
  },
  {
   "cell_type": "code",
   "execution_count": 1,
   "metadata": {
    "colab": {
     "base_uri": "https://localhost:8080/"
    },
    "id": "4Z3aabU0CwCf",
    "outputId": "9048f66b-d560-4e76-8ee0-870bf0965378"
   },
   "outputs": [
    {
     "name": "stdout",
     "output_type": "stream",
     "text": [
      "Drive already mounted at /content/drive; to attempt to forcibly remount, call drive.mount(\"/content/drive\", force_remount=True).\n"
     ]
    }
   ],
   "source": [
    "from google.colab import drive\n",
    "drive.mount('/content/drive')"
   ]
  },
  {
   "cell_type": "code",
   "execution_count": 2,
   "metadata": {
    "colab": {
     "base_uri": "https://localhost:8080/"
    },
    "id": "U0dbPhdUCxLD",
    "outputId": "e67926c0-3c92-49b1-d53b-04376282b2c9"
   },
   "outputs": [
    {
     "name": "stdout",
     "output_type": "stream",
     "text": [
      "/content/drive/MyDrive/Colab Notebooks\n"
     ]
    }
   ],
   "source": [
    "cd drive/MyDrive/'Colab Notebooks'/"
   ]
  },
  {
   "cell_type": "code",
   "execution_count": 3,
   "metadata": {
    "id": "82KnVtTb9fwv"
   },
   "outputs": [],
   "source": [
    "import numpy as np\n",
    "import tensorflow as tf\n",
    "import matplotlib.pyplot as plt\n",
    "from tensorflow.keras.datasets import cifar100\n",
    "from tensorflow.keras.applications.resnet50 import ResNet50, preprocess_input\n",
    "import tensorflow.keras as keras\n",
    "from tensorflow.keras.models import Model, Sequential\n",
    "from tensorflow.keras.layers import Input, UpSampling2D, Flatten, BatchNormalization, Dense, Dropout, GlobalAveragePooling2D\n",
    "from keras.utils import np_utils\n",
    "from skimage.transform import resize\n",
    "from tensorflow.keras.applications.resnet50 import decode_predictions\n",
    "from tensorflow.keras.preprocessing.image import ImageDataGenerator"
   ]
  },
  {
   "cell_type": "code",
   "execution_count": 4,
   "metadata": {
    "id": "HN1m9yU292k4"
   },
   "outputs": [],
   "source": [
    "(x_train, y_train), (x_test, y_test) = cifar100.load_data()"
   ]
  },
  {
   "cell_type": "code",
   "execution_count": 5,
   "metadata": {
    "id": "S1ZwJYmv-BxF"
   },
   "outputs": [],
   "source": [
    "#Pre-process the data\n",
    "x_train = preprocess_input(x_train)\n",
    "x_test = preprocess_input(x_test)"
   ]
  },
  {
   "cell_type": "code",
   "execution_count": 6,
   "metadata": {
    "id": "km_G0JdQyuDS"
   },
   "outputs": [],
   "source": [
    "def get_random_eraser(p=0.5, s_l=0.02, s_h=0.4, r_1=0.3, r_2=1/0.3, v_l=0, v_h=255, pixel_level=False):\n",
    "    def eraser(input_img):\n",
    "        img_h, img_w, img_c = input_img.shape\n",
    "        p_1 = np.random.rand()\n",
    "\n",
    "        if p_1 > p:\n",
    "            return input_img\n",
    "\n",
    "        while True:\n",
    "            s = np.random.uniform(s_l, s_h) * img_h * img_w\n",
    "            r = np.random.uniform(r_1, r_2)\n",
    "            w = int(np.sqrt(s / r))\n",
    "            h = int(np.sqrt(s * r))\n",
    "            left = np.random.randint(0, img_w)\n",
    "            top = np.random.randint(0, img_h)\n",
    "\n",
    "            if left + w <= img_w and top + h <= img_h:\n",
    "                break\n",
    "\n",
    "        if pixel_level:\n",
    "            c = np.random.uniform(v_l, v_h, (h, w, img_c))\n",
    "        else:\n",
    "            c = np.random.uniform(v_l, v_h)\n",
    "\n",
    "        input_img[top:top + h, left:left + w, :] = c\n",
    "\n",
    "        return input_img\n",
    "\n",
    "    return eraser"
   ]
  },
  {
   "cell_type": "code",
   "execution_count": 7,
   "metadata": {
    "id": "X4EMAANwO9E-"
   },
   "outputs": [],
   "source": [
    "datagen = ImageDataGenerator(preprocessing_function=get_random_eraser(v_l=0, v_h=1, pixel_level=True))\n",
    "datagen.fit(x_train)"
   ]
  },
  {
   "cell_type": "code",
   "execution_count": 8,
   "metadata": {
    "id": "KMsXhd1IW0nM"
   },
   "outputs": [],
   "source": [
    "y_train = np_utils.to_categorical(y_train, 100)\n",
    "y_test = np_utils.to_categorical(y_test, 100)"
   ]
  },
  {
   "cell_type": "code",
   "execution_count": 9,
   "metadata": {
    "id": "tYelN4gNTPAY"
   },
   "outputs": [],
   "source": [
    "resnet_model = ResNet50(weights='imagenet', include_top=False, input_shape=(256, 256, 3))\n",
    "\n",
    "for layer in resnet_model.layers:\n",
    "    if isinstance(layer, BatchNormalization):\n",
    "        layer.trainable = True\n",
    "    else:\n",
    "        layer.trainable = False\n",
    "\n",
    "model = Sequential()\n",
    "model.add(UpSampling2D())\n",
    "model.add(UpSampling2D())\n",
    "model.add(UpSampling2D())\n",
    "model.add(resnet_model)\n",
    "model.add(GlobalAveragePooling2D())\n",
    "model.add(Dense(256, activation='relu'))\n",
    "model.add(Dropout(.25))\n",
    "model.add(BatchNormalization())\n",
    "model.add(Dense(100, activation='softmax'))"
   ]
  },
  {
   "cell_type": "code",
   "execution_count": null,
   "metadata": {
    "id": "i7o5mxPo9dsf",
    "outputId": "a16ac88c-6351-4ca6-ef62-53df593bcf6d"
   },
   "outputs": [
    {
     "name": "stdout",
     "output_type": "stream",
     "text": [
      "Model: \"sequential_3\"\n",
      "_________________________________________________________________\n",
      "Layer (type)                 Output Shape              Param #   \n",
      "=================================================================\n",
      "up_sampling2d_9 (UpSampling2 (None, None, None, None)  0         \n",
      "_________________________________________________________________\n",
      "up_sampling2d_10 (UpSampling (None, None, None, None)  0         \n",
      "_________________________________________________________________\n",
      "up_sampling2d_11 (UpSampling (None, None, None, None)  0         \n",
      "_________________________________________________________________\n",
      "resnet50 (Functional)        (None, 8, 8, 2048)        23587712  \n",
      "_________________________________________________________________\n",
      "global_average_pooling2d_3 ( (None, 2048)              0         \n",
      "_________________________________________________________________\n",
      "dense_6 (Dense)              (None, 256)               524544    \n",
      "_________________________________________________________________\n",
      "dropout_3 (Dropout)          (None, 256)               0         \n",
      "_________________________________________________________________\n",
      "batch_normalization_3 (Batch (None, 256)               1024      \n",
      "_________________________________________________________________\n",
      "dense_7 (Dense)              (None, 100)               25700     \n",
      "=================================================================\n",
      "Total params: 24,138,980\n",
      "Trainable params: 603,876\n",
      "Non-trainable params: 23,535,104\n",
      "_________________________________________________________________\n"
     ]
    }
   ],
   "source": [
    "model.summary()"
   ]
  },
  {
   "cell_type": "code",
   "execution_count": 10,
   "metadata": {
    "id": "C2Ah2MQa9dsh"
   },
   "outputs": [],
   "source": [
    "model.compile(loss='categorical_crossentropy',optimizer='adam',metrics=['accuracy'])"
   ]
  },
  {
   "cell_type": "code",
   "execution_count": 11,
   "metadata": {
    "colab": {
     "base_uri": "https://localhost:8080/"
    },
    "id": "DJ0HFOoen4R6",
    "outputId": "817a1fc5-4a67-45fc-fcc5-062bd6fcc9b6",
    "scrolled": true
   },
   "outputs": [
    {
     "name": "stderr",
     "output_type": "stream",
     "text": [
      "<ipython-input-11-a291a3b3c760>:1: UserWarning: `Model.fit_generator` is deprecated and will be removed in a future version. Please use `Model.fit`, which supports generators.\n",
      "  history = model.fit_generator(datagen.flow(x_train, y_train,\n"
     ]
    },
    {
     "name": "stdout",
     "output_type": "stream",
     "text": [
      "Epoch 1/12\n",
      "781/781 [==============================] - 516s 630ms/step - loss: 2.0094 - accuracy: 0.4811 - val_loss: 1.0603 - val_accuracy: 0.6859\n",
      "Epoch 2/12\n",
      "781/781 [==============================] - 489s 626ms/step - loss: 1.1639 - accuracy: 0.6643 - val_loss: 0.8524 - val_accuracy: 0.7416\n",
      "Epoch 3/12\n",
      "781/781 [==============================] - 481s 616ms/step - loss: 0.9731 - accuracy: 0.7134 - val_loss: 0.7813 - val_accuracy: 0.7641\n",
      "Epoch 4/12\n",
      "781/781 [==============================] - 489s 626ms/step - loss: 0.8711 - accuracy: 0.7403 - val_loss: 0.7325 - val_accuracy: 0.7785\n",
      "Epoch 5/12\n",
      "781/781 [==============================] - 481s 616ms/step - loss: 0.8001 - accuracy: 0.7587 - val_loss: 0.7361 - val_accuracy: 0.7817\n",
      "Epoch 6/12\n",
      "781/781 [==============================] - 481s 616ms/step - loss: 0.7396 - accuracy: 0.7778 - val_loss: 0.7325 - val_accuracy: 0.7784\n",
      "Epoch 7/12\n",
      "781/781 [==============================] - 489s 626ms/step - loss: 0.6929 - accuracy: 0.7879 - val_loss: 0.7067 - val_accuracy: 0.7878\n",
      "Epoch 8/12\n",
      "781/781 [==============================] - 481s 616ms/step - loss: 0.6487 - accuracy: 0.8019 - val_loss: 0.7037 - val_accuracy: 0.7921\n",
      "Epoch 9/12\n",
      "781/781 [==============================] - 489s 626ms/step - loss: 0.6192 - accuracy: 0.8088 - val_loss: 0.6995 - val_accuracy: 0.7936\n",
      "Epoch 10/12\n",
      "781/781 [==============================] - 489s 626ms/step - loss: 0.5864 - accuracy: 0.8172 - val_loss: 0.7154 - val_accuracy: 0.7958\n",
      "Epoch 11/12\n",
      "781/781 [==============================] - 489s 626ms/step - loss: 0.5507 - accuracy: 0.8293 - val_loss: 0.7221 - val_accuracy: 0.7906\n",
      "Epoch 12/12\n",
      "781/781 [==============================] - 489s 626ms/step - loss: 0.5262 - accuracy: 0.8357 - val_loss: 0.7209 - val_accuracy: 0.7982\n"
     ]
    }
   ],
   "source": [
    "history = model.fit_generator(datagen.flow(x_train, y_train,\n",
    "                                  batch_size=64),\n",
    "                                  steps_per_epoch=x_train.shape[0] // 64,\n",
    "                                  epochs=12,\n",
    "                                  validation_data=(x_test, y_test))"
   ]
  },
  {
   "cell_type": "code",
   "execution_count": null,
   "metadata": {
    "id": "-WsUOYLgqVBw"
   },
   "outputs": [],
   "source": [
    "#model.save_weights(\"New_cifar100.h5\")"
   ]
  },
  {
   "cell_type": "code",
   "execution_count": 12,
   "metadata": {
    "colab": {
     "base_uri": "https://localhost:8080/"
    },
    "id": "2b2WYMb3TTOy",
    "outputId": "37547e53-9a13-4f6a-c5db-29ef9effa825"
   },
   "outputs": [
    {
     "name": "stdout",
     "output_type": "stream",
     "text": [
      "313/313 [==============================] - 35s 111ms/step - loss: 0.7209 - accuracy: 0.7982\n"
     ]
    },
    {
     "data": {
      "text/plain": [
       "[0.7208670377731323, 0.7982000112533569]"
      ]
     },
     "execution_count": 12,
     "metadata": {},
     "output_type": "execute_result"
    }
   ],
   "source": [
    "model.evaluate(x_test, y_test)"
   ]
  },
  {
   "cell_type": "code",
   "execution_count": 13,
   "metadata": {
    "colab": {
     "base_uri": "https://localhost:8080/",
     "height": 927
    },
    "id": "vWjDUorIfOEJ",
    "outputId": "3401d19e-01ca-4ff8-89eb-6ff7bbe40409"
   },
   "outputs": [
    {
     "data": {
      "image/png": "[encoded data removed]",
      "text/plain": [
       "<Figure size 640x480 with 1 Axes>"
      ]
     },
     "metadata": {},
     "output_type": "display_data"
    },
    {
     "data": {
      "image/png": "[encoded data removed]",
      "text/plain": [
       "<Figure size 640x480 with 1 Axes>"
      ]
     },
     "metadata": {},
     "output_type": "display_data"
    }
   ],
   "source": [
    "import matplotlib.pyplot as plt \n",
    "plt.plot(history.history['accuracy'])\n",
    "plt.plot(history.history['val_accuracy'])\n",
    "plt.title('Model Accuracy')\n",
    "plt.ylabel('Accuracy')\n",
    "plt.xlabel('Epoch')\n",
    "plt.legend(['Train', 'Validation'], loc='upper left')\n",
    "plt.show()\n",
    "\n",
    "plt.plot(history.history['loss'])\n",
    "plt.plot(history.history['val_loss'])\n",
    "plt.title('Model Loss')\n",
    "plt.ylabel('Loss')\n",
    "plt.xlabel('Epoch')\n",
    "plt.legend(['Train', 'Validation'], loc='upper right')\n",
    "plt.show()"
   ]
  },
  {
   "cell_type": "code",
   "execution_count": 14,
   "metadata": {
    "id": "nYTU7Qlz9dsl"
   },
   "outputs": [],
   "source": [
    "#model.save('New_cifar100.h5')"
   ]
  },
  {
   "cell_type": "code",
   "execution_count": 15,
   "metadata": {
    "id": "MgreSFes6zoJ"
   },
   "outputs": [],
   "source": [
    "from tensorflow.keras.models import load_model\n",
    "new_model = load_model('New_cifar100.h5')"
   ]
  },
  {
   "cell_type": "code",
   "execution_count": 16,
   "metadata": {
    "colab": {
     "base_uri": "https://localhost:8080/"
    },
    "id": "FJS_3LSw7JVN",
    "outputId": "23a3fe7b-f5f9-4c07-bd5e-b40c5c738209"
   },
   "outputs": [
    {
     "name": "stdout",
     "output_type": "stream",
     "text": [
      "1000/1000 [==============================] - 39s 38ms/step - loss: 0.7209 - accuracy: 0.7982\n"
     ]
    },
    {
     "data": {
      "text/plain": [
       "[0.7208674550056458, 0.7982000112533569]"
      ]
     },
     "execution_count": 16,
     "metadata": {},
     "output_type": "execute_result"
    }
   ],
   "source": [
    "new_model.evaluate(x_test, y_test, batch_size=10, verbose=1)"
   ]
  },
  {
   "cell_type": "code",
   "execution_count": 17,
   "metadata": {
    "colab": {
     "base_uri": "https://localhost:8080/"
    },
    "id": "IqhdohYS7YDr",
    "outputId": "6f779d0a-676a-4e68-83b6-e33f7fcb02e4"
   },
   "outputs": [
    {
     "name": "stdout",
     "output_type": "stream",
     "text": [
      "313/313 [==============================] - 33s 103ms/step\n"
     ]
    }
   ],
   "source": [
    "y_pred = new_model.predict(x_test)"
   ]
  },
  {
   "cell_type": "code",
   "execution_count": 18,
   "metadata": {
    "id": "-ehntRob7mkV"
   },
   "outputs": [],
   "source": [
    "y_pred_classes = np.argmax(y_pred, axis=1)"
   ]
  },
  {
   "cell_type": "code",
   "execution_count": 19,
   "metadata": {
    "id": "fcfzF0VF7sVn"
   },
   "outputs": [],
   "source": [
    "y_true = np.argmax(y_test, axis=1)"
   ]
  },
  {
   "cell_type": "code",
   "execution_count": 20,
   "metadata": {
    "colab": {
     "base_uri": "https://localhost:8080/"
    },
    "id": "TZ6OCJN870uj",
    "outputId": "6269a86c-163c-4447-f26a-3530ef89ba9c"
   },
   "outputs": [
    {
     "name": "stdout",
     "output_type": "stream",
     "text": [
      "Accuracy: 79.82000000000001\n"
     ]
    }
   ],
   "source": [
    "acc = (np.mean(np.argmax(y_pred, axis=1) == np.argmax(y_test, axis=1)))*100\n",
    "print('Accuracy:', acc)"
   ]
  },
  {
   "cell_type": "code",
   "execution_count": 21,
   "metadata": {
    "colab": {
     "base_uri": "https://localhost:8080/"
    },
    "id": "nFNfhgW570xc",
    "outputId": "5b16abd7-6a65-480b-a079-0e4a3703334c"
   },
   "outputs": [
    {
     "name": "stdout",
     "output_type": "stream",
     "text": [
      "[[87  0  0 ...  0  0  0]\n",
      " [ 0 90  0 ...  0  0  0]\n",
      " [ 0  0 71 ...  0  3  1]\n",
      " ...\n",
      " [ 0  0  0 ... 88  1  0]\n",
      " [ 0  0  1 ...  0 65  0]\n",
      " [ 0  0  1 ...  0  0 94]]\n"
     ]
    }
   ],
   "source": [
    "from sklearn.metrics import confusion_matrix,classification_report\n",
    "cm=confusion_matrix(y_true,y_pred_classes)\n",
    "print((cm))"
   ]
  },
  {
   "cell_type": "code",
   "execution_count": 22,
   "metadata": {
    "colab": {
     "base_uri": "https://localhost:8080/"
    },
    "id": "iPWbAPl2700b",
    "outputId": "caefa7f0-3e59-4c54-98d5-ecf31650dcca"
   },
   "outputs": [
    {
     "name": "stdout",
     "output_type": "stream",
     "text": [
      "              precision    recall  f1-score   support\n",
      "\n",
      "           0       0.93      0.87      0.90       100\n",
      "           1       0.83      0.90      0.87       100\n",
      "           2       0.69      0.71      0.70       100\n",
      "           3       0.73      0.72      0.72       100\n",
      "           4       0.72      0.69      0.70       100\n",
      "           5       0.88      0.80      0.84       100\n",
      "           6       0.93      0.79      0.85       100\n",
      "           7       0.77      0.80      0.78       100\n",
      "           8       0.96      0.90      0.93       100\n",
      "           9       0.91      0.89      0.90       100\n",
      "          10       0.75      0.55      0.64       100\n",
      "          11       0.53      0.44      0.48       100\n",
      "          12       0.86      0.89      0.88       100\n",
      "          13       0.81      0.81      0.81       100\n",
      "          14       0.78      0.83      0.81       100\n",
      "          15       0.80      0.87      0.83       100\n",
      "          16       0.86      0.87      0.87       100\n",
      "          17       0.99      0.78      0.87       100\n",
      "          18       0.72      0.88      0.79       100\n",
      "          19       0.88      0.71      0.78       100\n",
      "          20       0.91      0.86      0.88       100\n",
      "          21       0.87      0.93      0.90       100\n",
      "          22       0.90      0.84      0.87       100\n",
      "          23       0.86      0.83      0.85       100\n",
      "          24       0.91      0.82      0.86       100\n",
      "          25       0.77      0.77      0.77       100\n",
      "          26       0.79      0.76      0.78       100\n",
      "          27       0.91      0.60      0.72       100\n",
      "          28       0.84      0.88      0.86       100\n",
      "          29       0.73      0.88      0.80       100\n",
      "          30       0.76      0.73      0.74       100\n",
      "          31       0.93      0.80      0.86       100\n",
      "          32       0.70      0.74      0.72       100\n",
      "          33       0.70      0.78      0.74       100\n",
      "          34       0.87      0.84      0.85       100\n",
      "          35       0.66      0.48      0.55       100\n",
      "          36       0.87      0.87      0.87       100\n",
      "          37       0.84      0.85      0.85       100\n",
      "          38       0.83      0.81      0.82       100\n",
      "          39       0.97      0.88      0.92       100\n",
      "          40       0.81      0.82      0.82       100\n",
      "          41       0.94      0.87      0.90       100\n",
      "          42       0.76      0.76      0.76       100\n",
      "          43       0.92      0.88      0.90       100\n",
      "          44       0.82      0.73      0.77       100\n",
      "          45       0.72      0.74      0.73       100\n",
      "          46       0.54      0.80      0.65       100\n",
      "          47       0.71      0.67      0.69       100\n",
      "          48       0.95      0.93      0.94       100\n",
      "          49       0.89      0.86      0.87       100\n",
      "          50       0.73      0.63      0.68       100\n",
      "          51       0.85      0.86      0.86       100\n",
      "          52       0.63      0.57      0.60       100\n",
      "          53       0.94      0.89      0.91       100\n",
      "          54       0.78      0.90      0.84       100\n",
      "          55       0.65      0.54      0.59       100\n",
      "          56       0.94      0.82      0.88       100\n",
      "          57       0.71      0.85      0.77       100\n",
      "          58       0.94      0.95      0.95       100\n",
      "          59       0.57      0.72      0.64       100\n",
      "          60       0.88      0.89      0.89       100\n",
      "          61       0.76      0.87      0.81       100\n",
      "          62       0.74      0.78      0.76       100\n",
      "          63       0.71      0.77      0.74       100\n",
      "          64       0.79      0.57      0.66       100\n",
      "          65       0.56      0.85      0.67       100\n",
      "          66       0.82      0.79      0.81       100\n",
      "          67       0.72      0.79      0.76       100\n",
      "          68       0.90      0.94      0.92       100\n",
      "          69       0.85      0.86      0.86       100\n",
      "          70       0.81      0.65      0.72       100\n",
      "          71       0.79      0.88      0.83       100\n",
      "          72       0.46      0.65      0.54       100\n",
      "          73       0.72      0.80      0.76       100\n",
      "          74       0.71      0.60      0.65       100\n",
      "          75       0.94      0.84      0.89       100\n",
      "          76       0.88      0.92      0.90       100\n",
      "          77       0.79      0.90      0.84       100\n",
      "          78       0.83      0.74      0.78       100\n",
      "          79       0.84      0.87      0.85       100\n",
      "          80       0.71      0.80      0.75       100\n",
      "          81       0.80      0.74      0.77       100\n",
      "          82       0.98      0.95      0.96       100\n",
      "          83       0.91      0.75      0.82       100\n",
      "          84       0.70      0.85      0.77       100\n",
      "          85       0.97      0.85      0.90       100\n",
      "          86       0.88      0.84      0.86       100\n",
      "          87       0.81      0.96      0.88       100\n",
      "          88       0.90      0.76      0.83       100\n",
      "          89       0.84      0.96      0.90       100\n",
      "          90       0.83      0.84      0.84       100\n",
      "          91       0.91      0.84      0.87       100\n",
      "          92       0.68      0.67      0.68       100\n",
      "          93       0.74      0.81      0.77       100\n",
      "          94       0.94      0.96      0.95       100\n",
      "          95       0.78      0.76      0.77       100\n",
      "          96       0.68      0.61      0.64       100\n",
      "          97       0.83      0.88      0.85       100\n",
      "          98       0.66      0.65      0.66       100\n",
      "          99       0.75      0.94      0.83       100\n",
      "\n",
      "    accuracy                           0.80     10000\n",
      "   macro avg       0.81      0.80      0.80     10000\n",
      "weighted avg       0.81      0.80      0.80     10000\n",
      "\n"
     ]
    }
   ],
   "source": [
    "cr=classification_report(y_true,y_pred_classes)\n",
    "print(cr)"
   ]
  },
  {
   "cell_type": "code",
   "execution_count": 23,
   "metadata": {
    "colab": {
     "base_uri": "https://localhost:8080/"
    },
    "id": "pQ2tY5DE8EBr",
    "outputId": "f46e4718-7c5b-4517-e7e6-4a23fec633fe"
   },
   "outputs": [
    {
     "data": {
      "text/plain": [
       "<bound method Counter.most_common of Counter({65: 152, 46: 147, 72: 140, 59: 126, 99: 126, 18: 123, 84: 122, 29: 121, 57: 120, 87: 119, 61: 115, 54: 115, 77: 114, 89: 114, 80: 113, 33: 111, 71: 111, 73: 111, 93: 110, 15: 109, 63: 109, 67: 109, 1: 108, 21: 107, 97: 106, 14: 106, 62: 106, 32: 105, 76: 105, 28: 105, 68: 104, 79: 104, 7: 104, 2: 103, 45: 103, 12: 103, 94: 102, 51: 101, 69: 101, 40: 101, 16: 101, 58: 101, 90: 101, 37: 101, 60: 101, 25: 100, 42: 100, 13: 100, 36: 100, 3: 99, 92: 98, 9: 98, 98: 98, 38: 98, 48: 98, 49: 97, 82: 97, 95: 97, 34: 97, 23: 96, 43: 96, 30: 96, 4: 96, 66: 96, 26: 96, 86: 96, 53: 95, 20: 95, 0: 94, 8: 94, 47: 94, 41: 93, 22: 93, 81: 92, 91: 92, 39: 91, 52: 91, 5: 91, 24: 90, 96: 90, 75: 89, 78: 89, 44: 89, 85: 88, 56: 87, 31: 86, 50: 86, 6: 85, 74: 85, 88: 84, 11: 83, 55: 83, 83: 82, 19: 81, 70: 80, 17: 79, 10: 73, 35: 73, 64: 72, 27: 66})>"
      ]
     },
     "execution_count": 23,
     "metadata": {},
     "output_type": "execute_result"
    }
   ],
   "source": [
    "from collections import Counter\n",
    "c=Counter(list(np.ravel(y_pred_classes)))\n",
    "c.most_common"
   ]
  },
  {
   "cell_type": "code",
   "execution_count": null,
   "metadata": {
    "id": "jD_3CIkV8dxq"
   },
   "outputs": [],
   "source": []
  }
 ],
 "metadata": {
  "accelerator": "GPU",
  "colab": {
   "machine_shape": "hm",
   "provenance": []
  },
  "kernelspec": {
   "display_name": "Python 3 (ipykernel)",
   "language": "python",
   "name": "python3"
  },
  "language_info": {
   "codemirror_mode": {
    "name": "ipython",
    "version": 3
   },
   "file_extension": ".py",
   "mimetype": "text/x-python",
   "name": "python",
   "nbconvert_exporter": "python",
   "pygments_lexer": "ipython3",
   "version": "3.9.13"
  }
 },
 "nbformat": 4,
 "nbformat_minor": 1
}
